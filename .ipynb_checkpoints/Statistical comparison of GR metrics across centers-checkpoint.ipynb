{
 "cells": [
  {
   "cell_type": "markdown",
   "metadata": {},
   "source": [
    "## Introduction\n",
    "The script below compares GR metrics across the LINCS centres using ANOVA and Tukeys test.<br><br>  The `ANOVA` tests gives an overall measure of whether one or more pairs of centres have statistically significant differences for a given GR metric, but does not tell you where the differences lie.<br><br>  The `Tukeys post hoc test` (or Tukeys Honestly Significant Difference test) tells you which pairs of centres have a significantly different GR metric between them."
   ]
  },
  {
   "cell_type": "markdown",
   "metadata": {},
   "source": [
    "## Instructions\n",
    "To view the data interactively:\n",
    "\n",
    "1. First, install Jupyter. If you are new to Python, we recommend installing Anaconda Python (which contains Jupyter). You must get the Python 3.6 version of Anaconda, not the 2.7 version!\n",
    "\n",
    "https://www.anaconda.com/download/\n",
    "\n",
    "2. Get seaborn version 0.9 by running the command `pip install seaborn==0.9.0` in the terminal.\n",
    "\n",
    "3. Open Jupyter either by clicking on its icon, or by typing jupyter notebook in a terminal. This will open up Jupyter in your web browser.\n",
    "\n",
    "4. Navigate to the folder where you downloaded the .ipynb file and the data files.\n",
    "\n",
    "5. To run the sript, replace `Palbociclib` and `GR50` with the desired drug and metric in the code block below. Then click on `Cell` in the menu bar and `Run all`"
   ]
  },
  {
   "cell_type": "code",
   "execution_count": 1,
   "metadata": {},
   "outputs": [],
   "source": [
    "drug = 'Palbociclib'\n",
    "metric = 'GR50'"
   ]
  },
  {
   "cell_type": "code",
   "execution_count": 2,
   "metadata": {},
   "outputs": [],
   "source": [
    "import seaborn as sns\n",
    "import matplotlib.pyplot as plt\n",
    "import numpy as np\n",
    "\n",
    "def plot_dist(df_grmetric, drug, metric):\n",
    "    dfa = df_grmetric[df_grmetric.agent == drug].copy()\n",
    "    colors = ['#233CFE', '#A95FC1', '#F93232', '#5F9564',\n",
    "              '#F8E114ce', '#610051', '#A00000']\n",
    "    centers = ['Center 2', 'Center 3', 'Center 1A', 'Center 4', 'Center 5',\n",
    "              'Center 1B', 'Center 1C']\n",
    "    cdict = {c:col for c, col in zip(centers, colors)}\n",
    "    fig, ax = plt.subplots()\n",
    "    sns.catplot(data=dfa, x='agent', hue='center', y=metric, \n",
    "                kind='point', join=False, dodge=True, jitter=True, palette=cdict,\n",
    "               ax=ax)\n",
    "    plt.close(2)\n",
    "    ax.set_xlabel('')\n",
    "    if metric == 'GR50':\n",
    "        plt.yscale('log')\n",
    "    "
   ]
  },
  {
   "cell_type": "code",
   "execution_count": 3,
   "metadata": {},
   "outputs": [],
   "source": [
    "import pandas as pd\n",
    "from scipy import stats\n",
    "from statsmodels.stats.multicomp import pairwise_tukeyhsd\n",
    "\n",
    "\n",
    "def run_anova_test(df_grmetric, drug, metric):\n",
    "    da = df_grmetric[df_grmetric.agent == drug].copy()\n",
    "    centers = da.center.unique()\n",
    "    data = []\n",
    "    for cl in centers:\n",
    "        data.append(da[da.center == cl][metric].tolist())\n",
    "    # Perform ANOVA test and get F-test statistic and p value    \n",
    "    f_value, p_value = stats.f_oneway(*data)\n",
    "    dc = da['center'].tolist()\n",
    "    dt = da[metric].tolist()\n",
    "    \n",
    "    print('Anova p-value for %s across all centres is %.3g' % (drug, p_value))\n",
    "    print('------------------------------------------------')\n",
    "    # Perform pairwise Tukeys HSD test\n",
    "    res = pairwise_tukeyhsd(dt, dc)\n",
    "    print(res)\n",
    "    dft = pd.DataFrame(res._results_table.data[1:],\n",
    "                       columns = res._results_table.data[0])\n",
    "    rt = len(dft[dft.reject == True])\n",
    "    print('')\n",
    "    print(\"There is significant difference in %s for %d out of %d center-pairs based on the Tukey test\" % (\n",
    "    metric, rt, len(dft)))\n",
    "    print(\"Refer to the table above for which center-pairs show significant differences (reject = True)\")\n",
    "    plot_dist(df_grmetric, drug, metric)\n",
    "    return dft"
   ]
  },
  {
   "cell_type": "code",
   "execution_count": 4,
   "metadata": {},
   "outputs": [],
   "source": [
    "dfg = pd.read_csv('gr_metric_merged_centres.csv')"
   ]
  },
  {
   "cell_type": "markdown",
   "metadata": {},
   "source": [
    "## Perform comparision for a given drug and GR metric "
   ]
  },
  {
   "cell_type": "code",
   "execution_count": 5,
   "metadata": {},
   "outputs": [
    {
     "name": "stdout",
     "output_type": "stream",
     "text": [
      "Anova p-value for Palbociclib across all centres is 5.69e-09\n",
      "------------------------------------------------\n",
      "  Multiple Comparison of Means - Tukey HSD,FWER=0.05 \n",
      "=====================================================\n",
      "  group1    group2  meandiff  lower    upper   reject\n",
      "-----------------------------------------------------\n",
      "Center 1A Center 1B -0.6733  -3.4815   2.1349  False \n",
      "Center 1A Center 1C -1.1958  -4.3354   1.9438  False \n",
      "Center 1A  Center 2  3.3809  -0.5905   7.3522  False \n",
      "Center 1A  Center 3  2.1471  -0.9925   5.2867  False \n",
      "Center 1A  Center 4 28.8215  25.6819  31.9611   True \n",
      "Center 1A  Center 5 -1.2149  -4.3545   1.9247  False \n",
      "Center 1B Center 1C -0.5225  -3.6621   2.6171  False \n",
      "Center 1B  Center 2  4.0542   0.0828   8.0255   True \n",
      "Center 1B  Center 3  2.8204  -0.3192    5.96   False \n",
      "Center 1B  Center 4 29.4948  26.3552  32.6344   True \n",
      "Center 1B  Center 5 -0.5416  -3.6812   2.598   False \n",
      "Center 1C  Center 2  4.5767   0.3644   8.7889   True \n",
      "Center 1C  Center 3  3.3429  -0.0964   6.7822  False \n",
      "Center 1C  Center 4 30.0173   26.578  33.4565   True \n",
      "Center 1C  Center 5 -0.0191  -3.4584   3.4201  False \n",
      " Center 2  Center 3 -1.2338   -5.446   2.9785  False \n",
      " Center 2  Center 4 25.4406  21.2284  29.6528   True \n",
      " Center 2  Center 5 -4.5958   -8.808  -0.3836   True \n",
      " Center 3  Center 4 26.6744  23.2351  30.1136   True \n",
      " Center 3  Center 5  -3.362  -6.8013   0.0772  False \n",
      " Center 4  Center 5 -30.0364 -33.4757 -26.5971  True \n",
      "-----------------------------------------------------\n",
      "\n",
      "There is significant difference in GR50 for 9 out of 21 center-pairs based on the Tukey test\n",
      "Refer to the table above for which center-pairs show significant differences (reject = True)\n"
     ]
    },
    {
     "data": {
      "image/png": "[encoded data removed]",
      "text/plain": [
       "<Figure size 432x288 with 1 Axes>"
      ]
     },
     "metadata": {},
     "output_type": "display_data"
    }
   ],
   "source": [
    "dft = run_anova_test(dfg, drug, metric)"
   ]
  },
  {
   "cell_type": "code",
   "execution_count": null,
   "metadata": {},
   "outputs": [],
   "source": []
  }
 ],
 "metadata": {
  "kernelspec": {
   "display_name": "Python 3",
   "language": "python",
   "name": "python3"
  },
  "language_info": {
   "codemirror_mode": {
    "name": "ipython",
    "version": 3
   },
   "file_extension": ".py",
   "mimetype": "text/x-python",
   "name": "python",
   "nbconvert_exporter": "python",
   "pygments_lexer": "ipython3",
   "version": "3.6.5"
  }
 },
 "nbformat": 4,
 "nbformat_minor": 2
}
